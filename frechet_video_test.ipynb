{
 "cells": [
  {
   "cell_type": "code",
   "execution_count": 1,
   "id": "b888fb33",
   "metadata": {},
   "outputs": [],
   "source": [
    "import tensorflow\n",
    "import numpy as np"
   ]
  },
  {
   "cell_type": "code",
   "execution_count": 4,
   "id": "3f0f1d2b",
   "metadata": {},
   "outputs": [
    {
     "name": "stdout",
     "output_type": "stream",
     "text": [
      "\u001b[33mDEPRECATION: Loading egg at /Users/ishananand/miniforge3/envs/tf/lib/python3.11/site-packages/keras_rl2-1.0.5-py3.11.egg is deprecated. pip 25.1 will enforce this behaviour change. A possible replacement is to use pip for package installation. Discussion can be found at https://github.com/pypa/pip/issues/12330\u001b[0m\u001b[33m\n",
      "\u001b[0m\u001b[33mDEPRECATION: Loading egg at /Users/ishananand/miniforge3/envs/tf/lib/python3.11/site-packages/setuptools-75.5.0-py3.11.egg is deprecated. pip 25.1 will enforce this behaviour change. A possible replacement is to use pip for package installation. Discussion can be found at https://github.com/pypa/pip/issues/12330\u001b[0m\u001b[33m\n",
      "\u001b[0mCollecting tensorflow-gan\n",
      "  Using cached tensorflow_gan-2.1.0-py2.py3-none-any.whl.metadata (1.5 kB)\n",
      "Collecting tensorflow-hub>=0.2 (from tensorflow-gan)\n",
      "  Using cached tensorflow_hub-0.16.1-py2.py3-none-any.whl.metadata (1.3 kB)\n",
      "Collecting tensorflow-probability>=0.7 (from tensorflow-gan)\n",
      "  Using cached tensorflow_probability-0.25.0-py2.py3-none-any.whl.metadata (13 kB)\n",
      "Requirement already satisfied: numpy>=1.12.0 in /Users/ishananand/miniforge3/envs/tf/lib/python3.11/site-packages (from tensorflow-hub>=0.2->tensorflow-gan) (1.26.4)\n",
      "Requirement already satisfied: protobuf>=3.19.6 in /Users/ishananand/miniforge3/envs/tf/lib/python3.11/site-packages (from tensorflow-hub>=0.2->tensorflow-gan) (4.25.5)\n",
      "Collecting tf-keras>=2.14.1 (from tensorflow-hub>=0.2->tensorflow-gan)\n",
      "  Using cached tf_keras-2.19.0-py3-none-any.whl.metadata (1.8 kB)\n",
      "Requirement already satisfied: absl-py in /Users/ishananand/miniforge3/envs/tf/lib/python3.11/site-packages (from tensorflow-probability>=0.7->tensorflow-gan) (2.1.0)\n",
      "Requirement already satisfied: six>=1.10.0 in /Users/ishananand/miniforge3/envs/tf/lib/python3.11/site-packages (from tensorflow-probability>=0.7->tensorflow-gan) (1.16.0)\n",
      "Requirement already satisfied: decorator in /Users/ishananand/miniforge3/envs/tf/lib/python3.11/site-packages (from tensorflow-probability>=0.7->tensorflow-gan) (5.1.1)\n",
      "Requirement already satisfied: cloudpickle>=1.3 in /Users/ishananand/miniforge3/envs/tf/lib/python3.11/site-packages (from tensorflow-probability>=0.7->tensorflow-gan) (3.1.0)\n",
      "Requirement already satisfied: gast>=0.3.2 in /Users/ishananand/miniforge3/envs/tf/lib/python3.11/site-packages (from tensorflow-probability>=0.7->tensorflow-gan) (0.6.0)\n",
      "Collecting dm-tree (from tensorflow-probability>=0.7->tensorflow-gan)\n",
      "  Using cached dm_tree-0.1.9-cp311-cp311-macosx_10_9_universal2.whl.metadata (2.4 kB)\n",
      "Collecting tensorflow<2.20,>=2.19 (from tf-keras>=2.14.1->tensorflow-hub>=0.2->tensorflow-gan)\n",
      "  Using cached tensorflow-2.19.0-cp311-cp311-macosx_12_0_arm64.whl.metadata (4.0 kB)\n",
      "Requirement already satisfied: attrs>=18.2.0 in /Users/ishananand/miniforge3/envs/tf/lib/python3.11/site-packages (from dm-tree->tensorflow-probability>=0.7->tensorflow-gan) (24.3.0)\n",
      "Requirement already satisfied: wrapt>=1.11.2 in /Users/ishananand/miniforge3/envs/tf/lib/python3.11/site-packages (from dm-tree->tensorflow-probability>=0.7->tensorflow-gan) (1.16.0)\n",
      "Requirement already satisfied: astunparse>=1.6.0 in /Users/ishananand/miniforge3/envs/tf/lib/python3.11/site-packages (from tensorflow<2.20,>=2.19->tf-keras>=2.14.1->tensorflow-hub>=0.2->tensorflow-gan) (1.6.3)\n",
      "Requirement already satisfied: flatbuffers>=24.3.25 in /Users/ishananand/miniforge3/envs/tf/lib/python3.11/site-packages (from tensorflow<2.20,>=2.19->tf-keras>=2.14.1->tensorflow-hub>=0.2->tensorflow-gan) (24.3.25)\n",
      "Requirement already satisfied: google-pasta>=0.1.1 in /Users/ishananand/miniforge3/envs/tf/lib/python3.11/site-packages (from tensorflow<2.20,>=2.19->tf-keras>=2.14.1->tensorflow-hub>=0.2->tensorflow-gan) (0.2.0)\n",
      "Requirement already satisfied: libclang>=13.0.0 in /Users/ishananand/miniforge3/envs/tf/lib/python3.11/site-packages (from tensorflow<2.20,>=2.19->tf-keras>=2.14.1->tensorflow-hub>=0.2->tensorflow-gan) (18.1.1)\n",
      "Requirement already satisfied: opt-einsum>=2.3.2 in /Users/ishananand/miniforge3/envs/tf/lib/python3.11/site-packages (from tensorflow<2.20,>=2.19->tf-keras>=2.14.1->tensorflow-hub>=0.2->tensorflow-gan) (3.4.0)\n",
      "Requirement already satisfied: packaging in /Users/ishananand/miniforge3/envs/tf/lib/python3.11/site-packages (from tensorflow<2.20,>=2.19->tf-keras>=2.14.1->tensorflow-hub>=0.2->tensorflow-gan) (24.2)\n",
      "Requirement already satisfied: requests<3,>=2.21.0 in /Users/ishananand/miniforge3/envs/tf/lib/python3.11/site-packages (from tensorflow<2.20,>=2.19->tf-keras>=2.14.1->tensorflow-hub>=0.2->tensorflow-gan) (2.32.3)\n",
      "Requirement already satisfied: setuptools in /Users/ishananand/miniforge3/envs/tf/lib/python3.11/site-packages/setuptools-75.5.0-py3.11.egg (from tensorflow<2.20,>=2.19->tf-keras>=2.14.1->tensorflow-hub>=0.2->tensorflow-gan) (75.5.0)\n",
      "Requirement already satisfied: termcolor>=1.1.0 in /Users/ishananand/miniforge3/envs/tf/lib/python3.11/site-packages (from tensorflow<2.20,>=2.19->tf-keras>=2.14.1->tensorflow-hub>=0.2->tensorflow-gan) (2.5.0)\n",
      "Requirement already satisfied: typing-extensions>=3.6.6 in /Users/ishananand/miniforge3/envs/tf/lib/python3.11/site-packages (from tensorflow<2.20,>=2.19->tf-keras>=2.14.1->tensorflow-hub>=0.2->tensorflow-gan) (4.12.2)\n",
      "Requirement already satisfied: grpcio<2.0,>=1.24.3 in /Users/ishananand/miniforge3/envs/tf/lib/python3.11/site-packages (from tensorflow<2.20,>=2.19->tf-keras>=2.14.1->tensorflow-hub>=0.2->tensorflow-gan) (1.68.0)\n",
      "Collecting tensorboard~=2.19.0 (from tensorflow<2.20,>=2.19->tf-keras>=2.14.1->tensorflow-hub>=0.2->tensorflow-gan)\n",
      "  Using cached tensorboard-2.19.0-py3-none-any.whl.metadata (1.8 kB)\n",
      "Requirement already satisfied: keras>=3.5.0 in /Users/ishananand/miniforge3/envs/tf/lib/python3.11/site-packages (from tensorflow<2.20,>=2.19->tf-keras>=2.14.1->tensorflow-hub>=0.2->tensorflow-gan) (3.6.0)\n",
      "Requirement already satisfied: h5py>=3.11.0 in /Users/ishananand/miniforge3/envs/tf/lib/python3.11/site-packages (from tensorflow<2.20,>=2.19->tf-keras>=2.14.1->tensorflow-hub>=0.2->tensorflow-gan) (3.12.1)\n",
      "Collecting ml-dtypes<1.0.0,>=0.5.1 (from tensorflow<2.20,>=2.19->tf-keras>=2.14.1->tensorflow-hub>=0.2->tensorflow-gan)\n",
      "  Using cached ml_dtypes-0.5.1-cp311-cp311-macosx_10_9_universal2.whl.metadata (21 kB)\n",
      "Requirement already satisfied: tensorflow-io-gcs-filesystem>=0.23.1 in /Users/ishananand/miniforge3/envs/tf/lib/python3.11/site-packages (from tensorflow<2.20,>=2.19->tf-keras>=2.14.1->tensorflow-hub>=0.2->tensorflow-gan) (0.37.1)\n",
      "Requirement already satisfied: wheel<1.0,>=0.23.0 in /Users/ishananand/miniforge3/envs/tf/lib/python3.11/site-packages (from astunparse>=1.6.0->tensorflow<2.20,>=2.19->tf-keras>=2.14.1->tensorflow-hub>=0.2->tensorflow-gan) (0.45.0)\n",
      "Requirement already satisfied: rich in /Users/ishananand/miniforge3/envs/tf/lib/python3.11/site-packages (from keras>=3.5.0->tensorflow<2.20,>=2.19->tf-keras>=2.14.1->tensorflow-hub>=0.2->tensorflow-gan) (13.9.4)\n",
      "Requirement already satisfied: namex in /Users/ishananand/miniforge3/envs/tf/lib/python3.11/site-packages (from keras>=3.5.0->tensorflow<2.20,>=2.19->tf-keras>=2.14.1->tensorflow-hub>=0.2->tensorflow-gan) (0.0.8)\n",
      "Requirement already satisfied: optree in /Users/ishananand/miniforge3/envs/tf/lib/python3.11/site-packages (from keras>=3.5.0->tensorflow<2.20,>=2.19->tf-keras>=2.14.1->tensorflow-hub>=0.2->tensorflow-gan) (0.13.1)\n",
      "Requirement already satisfied: charset_normalizer<4,>=2 in /Users/ishananand/miniforge3/envs/tf/lib/python3.11/site-packages (from requests<3,>=2.21.0->tensorflow<2.20,>=2.19->tf-keras>=2.14.1->tensorflow-hub>=0.2->tensorflow-gan) (3.4.1)\n",
      "Requirement already satisfied: idna<4,>=2.5 in /Users/ishananand/miniforge3/envs/tf/lib/python3.11/site-packages (from requests<3,>=2.21.0->tensorflow<2.20,>=2.19->tf-keras>=2.14.1->tensorflow-hub>=0.2->tensorflow-gan) (3.10)\n",
      "Requirement already satisfied: urllib3<3,>=1.21.1 in /Users/ishananand/miniforge3/envs/tf/lib/python3.11/site-packages (from requests<3,>=2.21.0->tensorflow<2.20,>=2.19->tf-keras>=2.14.1->tensorflow-hub>=0.2->tensorflow-gan) (2.2.3)\n",
      "Requirement already satisfied: certifi>=2017.4.17 in /Users/ishananand/miniforge3/envs/tf/lib/python3.11/site-packages (from requests<3,>=2.21.0->tensorflow<2.20,>=2.19->tf-keras>=2.14.1->tensorflow-hub>=0.2->tensorflow-gan) (2024.8.30)\n",
      "Requirement already satisfied: markdown>=2.6.8 in /Users/ishananand/miniforge3/envs/tf/lib/python3.11/site-packages (from tensorboard~=2.19.0->tensorflow<2.20,>=2.19->tf-keras>=2.14.1->tensorflow-hub>=0.2->tensorflow-gan) (3.7)\n",
      "Requirement already satisfied: tensorboard-data-server<0.8.0,>=0.7.0 in /Users/ishananand/miniforge3/envs/tf/lib/python3.11/site-packages (from tensorboard~=2.19.0->tensorflow<2.20,>=2.19->tf-keras>=2.14.1->tensorflow-hub>=0.2->tensorflow-gan) (0.7.2)\n",
      "Requirement already satisfied: werkzeug>=1.0.1 in /Users/ishananand/miniforge3/envs/tf/lib/python3.11/site-packages (from tensorboard~=2.19.0->tensorflow<2.20,>=2.19->tf-keras>=2.14.1->tensorflow-hub>=0.2->tensorflow-gan) (3.1.3)\n",
      "Requirement already satisfied: MarkupSafe>=2.1.1 in /Users/ishananand/miniforge3/envs/tf/lib/python3.11/site-packages (from werkzeug>=1.0.1->tensorboard~=2.19.0->tensorflow<2.20,>=2.19->tf-keras>=2.14.1->tensorflow-hub>=0.2->tensorflow-gan) (3.0.2)\n",
      "Requirement already satisfied: markdown-it-py>=2.2.0 in /Users/ishananand/miniforge3/envs/tf/lib/python3.11/site-packages (from rich->keras>=3.5.0->tensorflow<2.20,>=2.19->tf-keras>=2.14.1->tensorflow-hub>=0.2->tensorflow-gan) (3.0.0)\n",
      "Requirement already satisfied: pygments<3.0.0,>=2.13.0 in /Users/ishananand/miniforge3/envs/tf/lib/python3.11/site-packages (from rich->keras>=3.5.0->tensorflow<2.20,>=2.19->tf-keras>=2.14.1->tensorflow-hub>=0.2->tensorflow-gan) (2.18.0)\n",
      "Requirement already satisfied: mdurl~=0.1 in /Users/ishananand/miniforge3/envs/tf/lib/python3.11/site-packages (from markdown-it-py>=2.2.0->rich->keras>=3.5.0->tensorflow<2.20,>=2.19->tf-keras>=2.14.1->tensorflow-hub>=0.2->tensorflow-gan) (0.1.2)\n",
      "Using cached tensorflow_gan-2.1.0-py2.py3-none-any.whl (367 kB)\n",
      "Using cached tensorflow_hub-0.16.1-py2.py3-none-any.whl (30 kB)\n",
      "Using cached tensorflow_probability-0.25.0-py2.py3-none-any.whl (7.0 MB)\n",
      "Using cached tf_keras-2.19.0-py3-none-any.whl (1.7 MB)\n",
      "Using cached dm_tree-0.1.9-cp311-cp311-macosx_10_9_universal2.whl (173 kB)\n",
      "Using cached tensorflow-2.19.0-cp311-cp311-macosx_12_0_arm64.whl (252.6 MB)\n",
      "Using cached ml_dtypes-0.5.1-cp311-cp311-macosx_10_9_universal2.whl (671 kB)\n",
      "Using cached tensorboard-2.19.0-py3-none-any.whl (5.5 MB)\n",
      "Installing collected packages: ml-dtypes, dm-tree, tensorflow-probability, tensorboard, tensorflow, tf-keras, tensorflow-hub, tensorflow-gan\n",
      "  Attempting uninstall: ml-dtypes\n",
      "    Found existing installation: ml-dtypes 0.3.2\n",
      "    Uninstalling ml-dtypes-0.3.2:\n",
      "      Successfully uninstalled ml-dtypes-0.3.2\n",
      "  Attempting uninstall: tensorboard\n",
      "    Found existing installation: tensorboard 2.16.2\n",
      "    Uninstalling tensorboard-2.16.2:\n",
      "      Successfully uninstalled tensorboard-2.16.2\n",
      "  Attempting uninstall: tensorflow\n",
      "    Found existing installation: tensorflow 2.16.2\n",
      "    Uninstalling tensorflow-2.16.2:\n",
      "      Successfully uninstalled tensorflow-2.16.2\n",
      "\u001b[31mERROR: pip's dependency resolver does not currently take into account all the packages that are installed. This behaviour is the source of the following dependency conflicts.\n",
      "tensorflow-macos 2.16.2 requires tensorflow==2.16.2; platform_system == \"Darwin\" and platform_machine == \"arm64\", but you have tensorflow 2.19.0 which is incompatible.\u001b[0m\u001b[31m\n",
      "\u001b[0mSuccessfully installed dm-tree-0.1.9 ml-dtypes-0.5.1 tensorboard-2.19.0 tensorflow-2.19.0 tensorflow-gan-2.1.0 tensorflow-hub-0.16.1 tensorflow-probability-0.25.0 tf-keras-2.19.0\n"
     ]
    }
   ],
   "source": [
    "# !pip uninstall keras keras-nightly tf-keras tf_keras tf-keras-nightly tf_keras_nightly -y\n",
    "# !pip install tensorflow==2.14.0\n",
    "!pip install tensorflow-gan\n"
   ]
  },
  {
   "cell_type": "code",
   "execution_count": 5,
   "id": "86526fd0",
   "metadata": {},
   "outputs": [
    {
     "name": "stdout",
     "output_type": "stream",
     "text": [
      "\n",
      "\n",
      "Failed to import TensorFlow Probability. To use TF-GAN, please install the most recent version of TensorFlow Probability, by following instructions at https://www.tensorflow.org/probability/install.\n",
      "\n",
      "\n"
     ]
    },
    {
     "ename": "ImportError",
     "evalue": "This version of TensorFlow Probability requires TensorFlow version >= 2.18; Detected an installation of version 2.16.2. Please upgrade TensorFlow to proceed.",
     "output_type": "error",
     "traceback": [
      "\u001b[0;31m---------------------------------------------------------------------------\u001b[0m",
      "\u001b[0;31mImportError\u001b[0m                               Traceback (most recent call last)",
      "Cell \u001b[0;32mIn[5], line 8\u001b[0m\n\u001b[1;32m      5\u001b[0m \u001b[38;5;66;03m# data = data.unsqueeze(2)\u001b[39;00m\n\u001b[1;32m      6\u001b[0m data\u001b[38;5;241m.\u001b[39mshape\n\u001b[0;32m----> 8\u001b[0m \u001b[38;5;28;01mfrom\u001b[39;00m \u001b[38;5;21;01mfrechet_video_distance\u001b[39;00m \u001b[38;5;28;01mimport\u001b[39;00m frechet_video_distance \u001b[38;5;28;01mas\u001b[39;00m fvds\n\u001b[1;32m     11\u001b[0m result \u001b[38;5;241m=\u001b[39m fvds\u001b[38;5;241m.\u001b[39mcalculate_fvd(\n\u001b[1;32m     12\u001b[0m     fvds\u001b[38;5;241m.\u001b[39mcreate_id3_embedding(fvds\u001b[38;5;241m.\u001b[39mpreprocess(data[\u001b[38;5;241m0\u001b[39m], (\u001b[38;5;241m224\u001b[39m, \u001b[38;5;241m224\u001b[39m))),\n\u001b[1;32m     13\u001b[0m     fvds\u001b[38;5;241m.\u001b[39mcreate_id3_embedding(fvds\u001b[38;5;241m.\u001b[39mpreprocess(data[\u001b[38;5;241m1\u001b[39m], (\u001b[38;5;241m224\u001b[39m, \u001b[38;5;241m224\u001b[39m))))\n\u001b[1;32m     15\u001b[0m result\n",
      "File \u001b[0;32m~/Desktop/Video-Generation-Flowing-MNIST/frechet_video_distance.py:30\u001b[0m\n\u001b[1;32m     28\u001b[0m \u001b[38;5;28;01mimport\u001b[39;00m \u001b[38;5;21;01msix\u001b[39;00m\n\u001b[1;32m     29\u001b[0m \u001b[38;5;28;01mimport\u001b[39;00m \u001b[38;5;21;01mtensorflow\u001b[39;00m\u001b[38;5;21;01m.\u001b[39;00m\u001b[38;5;21;01mcompat\u001b[39;00m\u001b[38;5;21;01m.\u001b[39;00m\u001b[38;5;21;01mv1\u001b[39;00m \u001b[38;5;28;01mas\u001b[39;00m \u001b[38;5;21;01mtf\u001b[39;00m\n\u001b[0;32m---> 30\u001b[0m \u001b[38;5;28;01mimport\u001b[39;00m \u001b[38;5;21;01mtensorflow_gan\u001b[39;00m \u001b[38;5;28;01mas\u001b[39;00m \u001b[38;5;21;01mtfgan\u001b[39;00m\n\u001b[1;32m     31\u001b[0m \u001b[38;5;28;01mimport\u001b[39;00m \u001b[38;5;21;01mtensorflow_hub\u001b[39;00m \u001b[38;5;28;01mas\u001b[39;00m \u001b[38;5;21;01mhub\u001b[39;00m\n\u001b[1;32m     34\u001b[0m \u001b[38;5;28;01mdef\u001b[39;00m \u001b[38;5;21mpreprocess\u001b[39m(videos, target_resolution):\n",
      "File \u001b[0;32m~/miniforge3/envs/tf/lib/python3.11/site-packages/tensorflow_gan/__init__.py:109\u001b[0m\n\u001b[1;32m    100\u001b[0m     \u001b[38;5;28;01mraise\u001b[39;00m \u001b[38;5;167;01mImportError\u001b[39;00m(\n\u001b[1;32m    101\u001b[0m         \u001b[38;5;124m\"\u001b[39m\u001b[38;5;124mThis version of TF-GAN requires TensorFlow Probability \u001b[39m\u001b[38;5;124m\"\u001b[39m\n\u001b[1;32m    102\u001b[0m         \u001b[38;5;124m\"\u001b[39m\u001b[38;5;124mversion >= \u001b[39m\u001b[38;5;132;01m{required}\u001b[39;00m\u001b[38;5;124m; Detected an installation of version \u001b[39m\u001b[38;5;132;01m{present}\u001b[39;00m\u001b[38;5;124m. \u001b[39m\u001b[38;5;124m\"\u001b[39m\n\u001b[1;32m    103\u001b[0m         \u001b[38;5;124m\"\u001b[39m\u001b[38;5;124mPlease upgrade TensorFlow to proceed.\u001b[39m\u001b[38;5;124m\"\u001b[39m\u001b[38;5;241m.\u001b[39mformat(\n\u001b[1;32m    104\u001b[0m             required\u001b[38;5;241m=\u001b[39mrequired_tensorflow_probability_version,\n\u001b[1;32m    105\u001b[0m             present\u001b[38;5;241m=\u001b[39mtfp\u001b[38;5;241m.\u001b[39m__version__))\n\u001b[1;32m    108\u001b[0m _ensure_tf_install()\n\u001b[0;32m--> 109\u001b[0m \u001b[43m_ensure_tfp_install\u001b[49m\u001b[43m(\u001b[49m\u001b[43m)\u001b[49m\n\u001b[1;32m    111\u001b[0m \u001b[38;5;28;01mfrom\u001b[39;00m \u001b[38;5;21;01mtensorflow_gan\u001b[39;00m\u001b[38;5;21;01m.\u001b[39;00m\u001b[38;5;21;01mpython\u001b[39;00m \u001b[38;5;28;01mimport\u001b[39;00m \u001b[38;5;241m*\u001b[39m  \u001b[38;5;66;03m# pylint: disable=wildcard-import\u001b[39;00m\n\u001b[1;32m    113\u001b[0m \u001b[38;5;66;03m# Cleanup symbols to avoid polluting namespace.\u001b[39;00m\n",
      "File \u001b[0;32m~/miniforge3/envs/tf/lib/python3.11/site-packages/tensorflow_gan/__init__.py:81\u001b[0m, in \u001b[0;36m_ensure_tfp_install\u001b[0;34m()\u001b[0m\n\u001b[1;32m     74\u001b[0m \u001b[38;5;250m\u001b[39m\u001b[38;5;124;03m\"\"\"Attempt to import tensorflow, and ensure its version is sufficient.\u001b[39;00m\n\u001b[1;32m     75\u001b[0m \n\u001b[1;32m     76\u001b[0m \u001b[38;5;124;03mRaises:\u001b[39;00m\n\u001b[1;32m     77\u001b[0m \u001b[38;5;124;03m  ImportError: if either tensorflow_probability is not importable or its\u001b[39;00m\n\u001b[1;32m     78\u001b[0m \u001b[38;5;124;03m  version is inadequate.\u001b[39;00m\n\u001b[1;32m     79\u001b[0m \u001b[38;5;124;03m\"\"\"\u001b[39;00m\n\u001b[1;32m     80\u001b[0m \u001b[38;5;28;01mtry\u001b[39;00m:\n\u001b[0;32m---> 81\u001b[0m   \u001b[38;5;28;01mimport\u001b[39;00m \u001b[38;5;21;01mtensorflow_probability\u001b[39;00m \u001b[38;5;28;01mas\u001b[39;00m \u001b[38;5;21;01mtfp\u001b[39;00m\n\u001b[1;32m     82\u001b[0m \u001b[38;5;28;01mexcept\u001b[39;00m \u001b[38;5;167;01mImportError\u001b[39;00m:\n\u001b[1;32m     83\u001b[0m   \u001b[38;5;66;03m# Print more informative error message, then reraise.\u001b[39;00m\n\u001b[1;32m     84\u001b[0m   \u001b[38;5;28mprint\u001b[39m(\u001b[38;5;124m\"\u001b[39m\u001b[38;5;130;01m\\n\u001b[39;00m\u001b[38;5;130;01m\\n\u001b[39;00m\u001b[38;5;124mFailed to import TensorFlow Probability. \u001b[39m\u001b[38;5;124m\"\u001b[39m\n\u001b[1;32m     85\u001b[0m         \u001b[38;5;124m\"\u001b[39m\u001b[38;5;124mTo use TF-GAN, please install the most recent version of \u001b[39m\u001b[38;5;124m\"\u001b[39m\n\u001b[1;32m     86\u001b[0m         \u001b[38;5;124m\"\u001b[39m\u001b[38;5;124mTensorFlow Probability, by following instructions at \u001b[39m\u001b[38;5;124m\"\u001b[39m\n\u001b[1;32m     87\u001b[0m         \u001b[38;5;124m\"\u001b[39m\u001b[38;5;124mhttps://www.tensorflow.org/probability/install.\u001b[39m\u001b[38;5;130;01m\\n\u001b[39;00m\u001b[38;5;130;01m\\n\u001b[39;00m\u001b[38;5;124m\"\u001b[39m)\n",
      "File \u001b[0;32m~/miniforge3/envs/tf/lib/python3.11/site-packages/tensorflow_probability/__init__.py:22\u001b[0m\n\u001b[1;32m     15\u001b[0m \u001b[38;5;124;03m\"\"\"Tools for probabilistic reasoning in TensorFlow.\"\"\"\u001b[39;00m\n\u001b[1;32m     17\u001b[0m \u001b[38;5;66;03m# Contributors to the `python/` dir should not alter this file; instead update\u001b[39;00m\n\u001b[1;32m     18\u001b[0m \u001b[38;5;66;03m# `python/__init__.py` as necessary.\u001b[39;00m\n\u001b[1;32m     19\u001b[0m \n\u001b[1;32m     20\u001b[0m \u001b[38;5;66;03m# from tensorflow_probability.google import staging  # DisableOnExport\u001b[39;00m\n\u001b[1;32m     21\u001b[0m \u001b[38;5;66;03m# from tensorflow_probability.google import tfp_google  # DisableOnExport\u001b[39;00m\n\u001b[0;32m---> 22\u001b[0m \u001b[38;5;28;01mfrom\u001b[39;00m \u001b[38;5;21;01mtensorflow_probability\u001b[39;00m\u001b[38;5;21;01m.\u001b[39;00m\u001b[38;5;21;01mpython\u001b[39;00m \u001b[38;5;28;01mimport\u001b[39;00m \u001b[38;5;241m*\u001b[39m  \u001b[38;5;66;03m# pylint: disable=wildcard-import\u001b[39;00m\n\u001b[1;32m     23\u001b[0m \u001b[38;5;28;01mfrom\u001b[39;00m \u001b[38;5;21;01mtensorflow_probability\u001b[39;00m\u001b[38;5;21;01m.\u001b[39;00m\u001b[38;5;21;01mpython\u001b[39;00m\u001b[38;5;21;01m.\u001b[39;00m\u001b[38;5;21;01mversion\u001b[39;00m \u001b[38;5;28;01mimport\u001b[39;00m __version__\n\u001b[1;32m     25\u001b[0m \u001b[38;5;66;03m# tfp_google.bind(globals())  # DisableOnExport\u001b[39;00m\n\u001b[1;32m     26\u001b[0m \u001b[38;5;66;03m# del tfp_google  # DisableOnExport\u001b[39;00m\n",
      "File \u001b[0;32m~/miniforge3/envs/tf/lib/python3.11/site-packages/tensorflow_probability/python/__init__.py:152\u001b[0m\n\u001b[1;32m    149\u001b[0m \u001b[38;5;28;01mif\u001b[39;00m _tf_loaded():\n\u001b[1;32m    150\u001b[0m   \u001b[38;5;66;03m# Non-lazy load of packages that register with tensorflow or keras.\u001b[39;00m\n\u001b[1;32m    151\u001b[0m   \u001b[38;5;28;01mfor\u001b[39;00m pkg_name \u001b[38;5;129;01min\u001b[39;00m _maybe_nonlazy_load:\n\u001b[0;32m--> 152\u001b[0m     \u001b[38;5;28;43mdir\u001b[39;49m\u001b[43m(\u001b[49m\u001b[38;5;28;43mglobals\u001b[39;49m\u001b[43m(\u001b[49m\u001b[43m)\u001b[49m\u001b[43m[\u001b[49m\u001b[43mpkg_name\u001b[49m\u001b[43m]\u001b[49m\u001b[43m)\u001b[49m  \u001b[38;5;66;03m# Forces loading the package from its lazy loader.\u001b[39;00m\n\u001b[1;32m    155\u001b[0m all_util\u001b[38;5;241m.\u001b[39mremove_undocumented(\u001b[38;5;18m__name__\u001b[39m, _lazy_load \u001b[38;5;241m+\u001b[39m _maybe_nonlazy_load)\n",
      "File \u001b[0;32m~/miniforge3/envs/tf/lib/python3.11/site-packages/tensorflow_probability/python/internal/lazy_loader.py:60\u001b[0m, in \u001b[0;36mLazyLoader.__dir__\u001b[0;34m(self)\u001b[0m\n\u001b[1;32m     59\u001b[0m \u001b[38;5;28;01mdef\u001b[39;00m \u001b[38;5;21m__dir__\u001b[39m(\u001b[38;5;28mself\u001b[39m):\n\u001b[0;32m---> 60\u001b[0m   module \u001b[38;5;241m=\u001b[39m \u001b[38;5;28;43mself\u001b[39;49m\u001b[38;5;241;43m.\u001b[39;49m\u001b[43m_load\u001b[49m\u001b[43m(\u001b[49m\u001b[43m)\u001b[49m\n\u001b[1;32m     61\u001b[0m   \u001b[38;5;28;01mreturn\u001b[39;00m \u001b[38;5;28mdir\u001b[39m(module)\n",
      "File \u001b[0;32m~/miniforge3/envs/tf/lib/python3.11/site-packages/tensorflow_probability/python/internal/lazy_loader.py:40\u001b[0m, in \u001b[0;36mLazyLoader._load\u001b[0;34m(self)\u001b[0m\n\u001b[1;32m     38\u001b[0m \u001b[38;5;250m\u001b[39m\u001b[38;5;124;03m\"\"\"Load the module and insert it into the parent's globals.\"\"\"\u001b[39;00m\n\u001b[1;32m     39\u001b[0m \u001b[38;5;28;01mif\u001b[39;00m \u001b[38;5;28mcallable\u001b[39m(\u001b[38;5;28mself\u001b[39m\u001b[38;5;241m.\u001b[39m_on_first_access):\n\u001b[0;32m---> 40\u001b[0m   \u001b[38;5;28;43mself\u001b[39;49m\u001b[38;5;241;43m.\u001b[39;49m\u001b[43m_on_first_access\u001b[49m\u001b[43m(\u001b[49m\u001b[43m)\u001b[49m\n\u001b[1;32m     41\u001b[0m   \u001b[38;5;28mself\u001b[39m\u001b[38;5;241m.\u001b[39m_on_first_access \u001b[38;5;241m=\u001b[39m \u001b[38;5;28;01mNone\u001b[39;00m\n\u001b[1;32m     42\u001b[0m \u001b[38;5;66;03m# Import the target module and insert it into the parent's namespace\u001b[39;00m\n",
      "File \u001b[0;32m~/miniforge3/envs/tf/lib/python3.11/site-packages/tensorflow_probability/python/__init__.py:59\u001b[0m, in \u001b[0;36m_validate_tf_environment\u001b[0;34m(package)\u001b[0m\n\u001b[1;32m     55\u001b[0m \u001b[38;5;66;03m#   required_tensorflow_version = '1.15'  # Needed internally -- DisableOnExport\u001b[39;00m\n\u001b[1;32m     57\u001b[0m   \u001b[38;5;28;01mif\u001b[39;00m (distutils\u001b[38;5;241m.\u001b[39mversion\u001b[38;5;241m.\u001b[39mLooseVersion(tf\u001b[38;5;241m.\u001b[39m__version__) \u001b[38;5;241m<\u001b[39m\n\u001b[1;32m     58\u001b[0m       distutils\u001b[38;5;241m.\u001b[39mversion\u001b[38;5;241m.\u001b[39mLooseVersion(required_tensorflow_version)):\n\u001b[0;32m---> 59\u001b[0m     \u001b[38;5;28;01mraise\u001b[39;00m \u001b[38;5;167;01mImportError\u001b[39;00m(\n\u001b[1;32m     60\u001b[0m         \u001b[38;5;124m'\u001b[39m\u001b[38;5;124mThis version of TensorFlow Probability requires TensorFlow \u001b[39m\u001b[38;5;124m'\u001b[39m\n\u001b[1;32m     61\u001b[0m         \u001b[38;5;124m'\u001b[39m\u001b[38;5;124mversion >= \u001b[39m\u001b[38;5;132;01m{required}\u001b[39;00m\u001b[38;5;124m; Detected an installation of version \u001b[39m\u001b[38;5;132;01m{present}\u001b[39;00m\u001b[38;5;124m. \u001b[39m\u001b[38;5;124m'\u001b[39m\n\u001b[1;32m     62\u001b[0m         \u001b[38;5;124m'\u001b[39m\u001b[38;5;124mPlease upgrade TensorFlow to proceed.\u001b[39m\u001b[38;5;124m'\u001b[39m\u001b[38;5;241m.\u001b[39mformat(\n\u001b[1;32m     63\u001b[0m             required\u001b[38;5;241m=\u001b[39mrequired_tensorflow_version,\n\u001b[1;32m     64\u001b[0m             present\u001b[38;5;241m=\u001b[39mtf\u001b[38;5;241m.\u001b[39m__version__))\n\u001b[1;32m     66\u001b[0m   \u001b[38;5;28;01mif\u001b[39;00m (package \u001b[38;5;241m==\u001b[39m \u001b[38;5;124m'\u001b[39m\u001b[38;5;124mmcmc\u001b[39m\u001b[38;5;124m'\u001b[39m \u001b[38;5;129;01mand\u001b[39;00m\n\u001b[1;32m     67\u001b[0m       tf\u001b[38;5;241m.\u001b[39mconfig\u001b[38;5;241m.\u001b[39mexperimental\u001b[38;5;241m.\u001b[39mtensor_float_32_execution_enabled()):\n\u001b[1;32m     68\u001b[0m     \u001b[38;5;66;03m# Must import here, because symbols get pruned to __all__.\u001b[39;00m\n\u001b[1;32m     69\u001b[0m     \u001b[38;5;28;01mimport\u001b[39;00m \u001b[38;5;21;01mwarnings\u001b[39;00m\n",
      "\u001b[0;31mImportError\u001b[0m: This version of TensorFlow Probability requires TensorFlow version >= 2.18; Detected an installation of version 2.16.2. Please upgrade TensorFlow to proceed."
     ]
    }
   ],
   "source": [
    "# from fvd import frechet_distance\n",
    "data = np.load(\"data/MovingMNIST/mnist_test_seq.npy\")\n",
    "# data.shape\n",
    "data = np.transpose(data, (1, 0, 2, 3))\n",
    "# data = data.unsqueeze(2)\n",
    "data.shape\n",
    "\n",
    "from frechet_video_distance import frechet_video_distance as fvds\n",
    "\n",
    "\n",
    "result = fvds.calculate_fvd(\n",
    "    fvds.create_id3_embedding(fvds.preprocess(data[0], (224, 224))),\n",
    "    fvds.create_id3_embedding(fvds.preprocess(data[1], (224, 224))))\n",
    "\n",
    "result"
   ]
  },
  {
   "cell_type": "code",
   "execution_count": null,
   "id": "14ef501b",
   "metadata": {},
   "outputs": [],
   "source": []
  }
 ],
 "metadata": {
  "kernelspec": {
   "display_name": "tf",
   "language": "python",
   "name": "python3"
  },
  "language_info": {
   "codemirror_mode": {
    "name": "ipython",
    "version": 3
   },
   "file_extension": ".py",
   "mimetype": "text/x-python",
   "name": "python",
   "nbconvert_exporter": "python",
   "pygments_lexer": "ipython3",
   "version": "3.11.9"
  }
 },
 "nbformat": 4,
 "nbformat_minor": 5
}
