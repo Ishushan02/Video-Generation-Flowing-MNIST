{
 "cells": [
  {
   "cell_type": "code",
   "execution_count": 35,
   "id": "f2146212",
   "metadata": {},
   "outputs": [],
   "source": [
    "from PIL import Image\n",
    "import numpy as np\n",
    "from transformers import Blip2Processor, Blip2ForConditionalGeneration\n",
    "import pandas as pd\n",
    "import torch\n"
   ]
  },
  {
   "cell_type": "code",
   "execution_count": 40,
   "id": "3029ac58",
   "metadata": {},
   "outputs": [
    {
     "data": {
      "application/vnd.jupyter.widget-view+json": {
       "model_id": "4061530f295e466283e20cdf405ae830",
       "version_major": 2,
       "version_minor": 0
      },
      "text/plain": [
       "model.safetensors.index.json: 0.00B [00:00, ?B/s]"
      ]
     },
     "metadata": {},
     "output_type": "display_data"
    },
    {
     "data": {
      "application/vnd.jupyter.widget-view+json": {
       "model_id": "bf9c2b959cd44ce0809a6413a5eb9261",
       "version_major": 2,
       "version_minor": 0
      },
      "text/plain": [
       "Fetching 2 files:   0%|          | 0/2 [00:00<?, ?it/s]"
      ]
     },
     "metadata": {},
     "output_type": "display_data"
    },
    {
     "data": {
      "application/vnd.jupyter.widget-view+json": {
       "model_id": "4bda57a8c01a4825a32f2d83c46bc1f9",
       "version_major": 2,
       "version_minor": 0
      },
      "text/plain": [
       "model-00002-of-00002.safetensors:   0%|          | 0.00/4.98G [00:00<?, ?B/s]"
      ]
     },
     "metadata": {},
     "output_type": "display_data"
    },
    {
     "data": {
      "application/vnd.jupyter.widget-view+json": {
       "model_id": "c8f5a33c33b64df58f95a837ae5449a8",
       "version_major": 2,
       "version_minor": 0
      },
      "text/plain": [
       "model-00001-of-00002.safetensors:   0%|          | 0.00/10.0G [00:00<?, ?B/s]"
      ]
     },
     "metadata": {},
     "output_type": "display_data"
    },
    {
     "data": {
      "application/vnd.jupyter.widget-view+json": {
       "model_id": "6c7a4f1442634bec80f9483d66999f1b",
       "version_major": 2,
       "version_minor": 0
      },
      "text/plain": [
       "Loading checkpoint shards:   0%|          | 0/2 [00:00<?, ?it/s]"
      ]
     },
     "metadata": {},
     "output_type": "display_data"
    },
    {
     "data": {
      "application/vnd.jupyter.widget-view+json": {
       "model_id": "ce9091ac294f4a3696126217738b3812",
       "version_major": 2,
       "version_minor": 0
      },
      "text/plain": [
       "generation_config.json:   0%|          | 0.00/141 [00:00<?, ?B/s]"
      ]
     },
     "metadata": {},
     "output_type": "display_data"
    }
   ],
   "source": [
    "processor = Blip2Processor.from_pretrained(\"Salesforce/blip2-opt-2.7b\")\n",
    "model = Blip2ForConditionalGeneration.from_pretrained(\"Salesforce/blip2-opt-2.7b\", torch_dtype=torch.float16)\n"
   ]
  },
  {
   "cell_type": "code",
   "execution_count": 41,
   "id": "4e0b5833",
   "metadata": {},
   "outputs": [
    {
     "name": "stdout",
     "output_type": "stream",
     "text": [
      "(20, 10000, 64, 64)\n"
     ]
    },
    {
     "data": {
      "text/plain": [
       "(10000, 20, 64, 64)"
      ]
     },
     "execution_count": 41,
     "metadata": {},
     "output_type": "execute_result"
    }
   ],
   "source": [
    "data = np.load(\"/Users/ishananand/Desktop/Video-Generation-Flowing-MNIST/data/MovingMNIST/mnist_test_seq.npy\")\n",
    "print(data.shape)\n",
    "data = np.transpose(data, (1, 0, 2, 3))\n",
    "data.shape"
   ]
  },
  {
   "cell_type": "code",
   "execution_count": 50,
   "id": "b2750792",
   "metadata": {},
   "outputs": [
    {
     "name": "stdout",
     "output_type": "stream",
     "text": [
      "Caption: a person is standing in front of a white wall\n",
      "\n"
     ]
    }
   ],
   "source": [
    "image = Image.open(\"/Users/ishananand/Desktop/Video-Generation-Flowing-MNIST/datavisualization/op.gif\")\n",
    "\n",
    "# image = Image.fromarray(data[50][0])\n",
    "inputs = processor(images=image, return_tensors=\"pt\").to(\"cpu\", torch.float16)\n",
    "\n",
    "# prompt = \"What digits are in this image and where are they placed \"\n",
    "inputs = processor(images=image, text=\"\", return_tensors=\"pt\").to(\"cpu\", torch.float16)\n",
    "generated_ids = model.generate(**inputs, max_new_tokens=50)\n",
    "caption = processor.batch_decode(generated_ids, skip_special_tokens=True)[0]\n",
    "print(\"Caption:\", caption)\n",
    "\n",
    "# inputs = processor(images=img, return_tensors=\"pt\").to(\"cpu\", torch.float16)\n",
    "# output = model.generate(**inputs)\n",
    "# text = processor.decode(output[0], skip_special_tokens=True)\n",
    "# text"
   ]
  },
  {
   "cell_type": "code",
   "execution_count": null,
   "id": "945bf90d",
   "metadata": {},
   "outputs": [],
   "source": []
  }
 ],
 "metadata": {
  "kernelspec": {
   "display_name": "pytorch_env",
   "language": "python",
   "name": "python3"
  },
  "language_info": {
   "codemirror_mode": {
    "name": "ipython",
    "version": 3
   },
   "file_extension": ".py",
   "mimetype": "text/x-python",
   "name": "python",
   "nbconvert_exporter": "python",
   "pygments_lexer": "ipython3",
   "version": "3.13.3"
  }
 },
 "nbformat": 4,
 "nbformat_minor": 5
}
