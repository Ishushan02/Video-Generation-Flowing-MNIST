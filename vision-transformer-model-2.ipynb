{
 "cells": [
  {
   "cell_type": "code",
   "execution_count": 1,
   "id": "3cefae80",
   "metadata": {},
   "outputs": [],
   "source": [
    "import torch\n",
    "import torch.nn as nn\n",
    "from torch.utils.data import Dataset, TensorDataset, DataLoader\n",
    "from einops import rearrange\n",
    "import numpy as np\n",
    "from torch import optim\n",
    "from tqdm import tqdm\n",
    "from PIL import Image\n",
    "from IPython.display import Image as IPyImage, display\n",
    "from io import BytesIO\n",
    "import torch.nn.functional as F\n",
    "from torchvision.models import vgg16\n",
    "from torchvision.models.feature_extraction import create_feature_extractor\n",
    "from torch.optim.lr_scheduler import StepLR"
   ]
  },
  {
   "cell_type": "markdown",
   "id": "97384ec3",
   "metadata": {},
   "source": [
    "### VIT Reference\n",
    "Refer to (https://github.com/Ishushan02/Cervical-Cancer-Detection-Using-Vision-Transformer) for Vision Transformer block code"
   ]
  },
  {
   "cell_type": "code",
   "execution_count": 2,
   "id": "aff58320",
   "metadata": {},
   "outputs": [
    {
     "name": "stdout",
     "output_type": "stream",
     "text": [
      "tensor([[[[ 0,  1,  2,  3],\n",
      "          [ 4,  5,  6,  7],\n",
      "          [ 8,  9, 10, 11],\n",
      "          [12, 13, 14, 15]]],\n",
      "\n",
      "\n",
      "        [[[16, 17, 18, 19],\n",
      "          [20, 21, 22, 23],\n",
      "          [24, 25, 26, 27],\n",
      "          [28, 29, 30, 31]]]])\n",
      "tensor([[[[[[ 0,  1],\n",
      "            [ 4,  5]],\n",
      "\n",
      "           [[ 2,  3],\n",
      "            [ 6,  7]]],\n",
      "\n",
      "\n",
      "          [[[ 8,  9],\n",
      "            [12, 13]],\n",
      "\n",
      "           [[10, 11],\n",
      "            [14, 15]]]]],\n",
      "\n",
      "\n",
      "\n",
      "\n",
      "        [[[[[16, 17],\n",
      "            [20, 21]],\n",
      "\n",
      "           [[18, 19],\n",
      "            [22, 23]]],\n",
      "\n",
      "\n",
      "          [[[24, 25],\n",
      "            [28, 29]],\n",
      "\n",
      "           [[26, 27],\n",
      "            [30, 31]]]]]])\n"
     ]
    }
   ],
   "source": [
    "x = torch.arange(0, 32).view(2, 1, 4, 4) \n",
    "print(x)\n",
    "patches = x.unfold(2, 2, 2).unfold(3, 2, 2)\n",
    "print(patches)\n"
   ]
  },
  {
   "cell_type": "code",
   "execution_count": 3,
   "id": "9c3a2869",
   "metadata": {},
   "outputs": [
    {
     "name": "stderr",
     "output_type": "stream",
     "text": [
      "/var/folders/y8/q2s37ndx6tg3lpzp3vp8xk_r0000gn/T/ipykernel_1152/2549432269.py:23: UserWarning: To copy construct from a tensor, it is recommended to use sourceTensor.clone().detach() or sourceTensor.clone().detach().requires_grad_(True), rather than torch.tensor(sourceTensor).\n",
      "  torch.tensor(input_frames, dtype=torch.float32),\n",
      "/var/folders/y8/q2s37ndx6tg3lpzp3vp8xk_r0000gn/T/ipykernel_1152/2549432269.py:24: UserWarning: To copy construct from a tensor, it is recommended to use sourceTensor.clone().detach() or sourceTensor.clone().detach().requires_grad_(True), rather than torch.tensor(sourceTensor).\n",
      "  torch.tensor(output_frames, dtype=torch.float32)\n"
     ]
    },
    {
     "data": {
      "text/plain": [
       "(torch.Size([10, 1, 4, 4]), torch.Size([10, 1, 4, 4]))"
      ]
     },
     "execution_count": 3,
     "metadata": {},
     "output_type": "execute_result"
    }
   ],
   "source": [
    "class MakeVideoDataset(Dataset):\n",
    "    def __init__(self, video, input_length=10, output_length=10):\n",
    "        super().__init__()\n",
    "        self.video = video\n",
    "        self.input_length = input_length\n",
    "        self.output_length = output_length\n",
    "        self.batch_size, self.seq_len, _, _, _ = video.shape\n",
    "\n",
    "        self.samples_per_video = self.seq_len - input_length - output_length + 1\n",
    "        self.total_samples = self.batch_size * self.samples_per_video\n",
    "\n",
    "    def __len__(self):\n",
    "        return self.total_samples\n",
    "\n",
    "    def __getitem__(self, idx):\n",
    "        batch_idx = idx // self.samples_per_video\n",
    "        time_idx = idx % self.samples_per_video\n",
    "\n",
    "        input_frames = self.video[batch_idx, time_idx:time_idx + self.input_length]\n",
    "        output_frames = self.video[batch_idx, time_idx + self.input_length:time_idx + self.input_length + self.output_length]\n",
    "\n",
    "        return (\n",
    "            torch.tensor(input_frames, dtype=torch.float32),\n",
    "            torch.tensor(output_frames, dtype=torch.float32)\n",
    "        )\n",
    "\n",
    "    \n",
    "    \n",
    "test = torch.randn(32, 20, 1, 4, 4)\n",
    "out = MakeVideoDataset(test)\n",
    "x, y = out.__getitem__(0)\n",
    "x.shape, y.shape"
   ]
  },
  {
   "cell_type": "code",
   "execution_count": 4,
   "id": "3b8e0bd2",
   "metadata": {},
   "outputs": [
    {
     "data": {
      "text/plain": [
       "torch.Size([20, 10, 64, 256])"
      ]
     },
     "execution_count": 4,
     "metadata": {},
     "output_type": "execute_result"
    }
   ],
   "source": [
    "class PatchEMbedding(nn.Module):\n",
    "    def __init__(self, patchSize = 8, inChannels = 1, embed_dim = 256):\n",
    "        super().__init__()\n",
    "        self.patchSize = patchSize\n",
    "        self.inChannels =inChannels\n",
    "        self.embed_dim = embed_dim\n",
    "        self.projection_layer = nn.Conv3d(\n",
    "            in_channels=inChannels,\n",
    "            out_channels=embed_dim,\n",
    "            kernel_size=(1, patchSize, patchSize),\n",
    "            stride=(1, patchSize, patchSize)\n",
    "        )\n",
    "\n",
    "    def forward(self, x):\n",
    "        batch_size, timeFrame, channels, height, width = x.shape\n",
    "        x = x.permute(0, 2, 1, 3, 4)\n",
    "\n",
    "        x = self.projection_layer(x)\n",
    "        # print(\"Patchs Shape: \", x.shape) \n",
    "        x = rearrange(x, 'b c t h w -> b t (h w) c')\n",
    "        return x\n",
    "    \n",
    "test = torch.randn(20, 10, 1, 64, 64)\n",
    "Pembed = PatchEMbedding()\n",
    "out = Pembed(test)\n",
    "out.shape\n"
   ]
  },
  {
   "cell_type": "code",
   "execution_count": 5,
   "id": "d4ad9ecc",
   "metadata": {},
   "outputs": [
    {
     "data": {
      "text/plain": [
       "torch.Size([20, 10, 1, 64, 64])"
      ]
     },
     "execution_count": 5,
     "metadata": {},
     "output_type": "execute_result"
    }
   ],
   "source": [
    "class VideoGenerator(nn.Module):\n",
    "    def __init__(self, imageSize = 64, patchSize = 8, inChannels = 1, input_length = 10, output_length = 10, heads = 8, feedForwardDim = 1024, d_embed = 256):\n",
    "        super().__init__()\n",
    "                \n",
    "        self.imageSize = imageSize\n",
    "        self.patchSize = patchSize\n",
    "        self.inChannels = inChannels\n",
    "        self.input_length = input_length\n",
    "        self.output_length = output_length\n",
    "        self.d_embed = d_embed\n",
    "        self.heads = heads\n",
    "        self.patch_embedding = PatchEMbedding(patchSize=patchSize, inChannels=inChannels, embed_dim=d_embed)\n",
    "        self.positional_embedding = nn.Parameter(torch.randn(1, input_length, patchSize * patchSize, d_embed))\n",
    "        self.num_patches_per_frame = (self.imageSize // patchSize) ** 2 \n",
    "        self.patches_per_side = self.imageSize // patchSize\n",
    "\n",
    "\n",
    "\n",
    "        self.encoding_layer = nn.TransformerEncoderLayer(\n",
    "            d_model=d_embed,\n",
    "            nhead=heads,\n",
    "            dim_feedforward=feedForwardDim,\n",
    "            dropout=0.1,\n",
    "            batch_first=True\n",
    "        )\n",
    "\n",
    "        self.encoder = nn.TransformerEncoder(self.encoding_layer, num_layers=6)\n",
    "\n",
    "        self.decoder = nn.Sequential(\n",
    "            nn.Linear(d_embed, 4 * d_embed),\n",
    "            nn.GELU(),\n",
    "            nn.Linear(4 * d_embed, output_length * self.num_patches_per_frame * patchSize**2 * inChannels)\n",
    "        )\n",
    "        self.decoderout = nn.Sequential(\n",
    "            nn.ConvTranspose2d(d_embed, 128, kernel_size=4, stride=2, padding=1),   \n",
    "            nn.ReLU(),\n",
    "            nn.ConvTranspose2d(128, 64, kernel_size=4, stride=2, padding=1),        \n",
    "            nn.ReLU(),\n",
    "            nn.ConvTranspose2d(64, inChannels * output_length, kernel_size=4, stride=2, padding=1),  \n",
    "        )\n",
    "\n",
    "\n",
    "    def forward(self, x):\n",
    "        batch_size, timeFrame, channels, height, width = x.shape\n",
    "\n",
    "        x = self.patch_embedding(x) + self.positional_embedding\n",
    "        # print(x.shape)\n",
    "\n",
    "        x = rearrange(x, 'b t p d -> b (t p) d')\n",
    "\n",
    "        # print(x.shape)\n",
    "        x = self.encoder(x)\n",
    "\n",
    "        # print(x.shape)\n",
    "        x = rearrange(x, 'b (t p) d -> b t p d', t=self.input_length) \n",
    "        x_last = x[:, -1]  \n",
    "        x_last = rearrange(x_last, 'b (h w) d -> b d h w', h=self.patches_per_side)  \n",
    "\n",
    "        pred = self.decoderout(x_last)  \n",
    "        pred = pred.view(batch_size, self.output_length, self.inChannels, self.imageSize, self.imageSize)\n",
    "\n",
    "\n",
    "        \n",
    "\n",
    "\n",
    "        return pred\n",
    "    \n",
    "test = torch.randn(20, 10, 1, 64, 64)\n",
    "VGen = VideoGenerator()\n",
    "out = VGen(test)\n",
    "out.shape"
   ]
  },
  {
   "cell_type": "code",
   "execution_count": 6,
   "id": "992cd60a",
   "metadata": {},
   "outputs": [
    {
     "data": {
      "text/plain": [
       "(20, 10000, 64, 64)"
      ]
     },
     "execution_count": 6,
     "metadata": {},
     "output_type": "execute_result"
    }
   ],
   "source": [
    "data = np.load(\"data/MovingMNIST/mnist_test_seq.npy\")\n",
    "data.shape"
   ]
  },
  {
   "cell_type": "code",
   "execution_count": 7,
   "id": "c9dce4b2",
   "metadata": {},
   "outputs": [
    {
     "data": {
      "text/plain": [
       "torch.Size([10000, 20, 1, 64, 64])"
      ]
     },
     "execution_count": 7,
     "metadata": {},
     "output_type": "execute_result"
    }
   ],
   "source": [
    "data = np.transpose(data, (1, 0, 2, 3))\n",
    "data = torch.from_numpy(data)\n",
    "data = data.unsqueeze(2)\n",
    "data.shape"
   ]
  },
  {
   "cell_type": "code",
   "execution_count": 8,
   "id": "ccbb09d2",
   "metadata": {},
   "outputs": [
    {
     "name": "stderr",
     "output_type": "stream",
     "text": [
      "/Users/ishananand/miniforge3/envs/pytorch_env/lib/python3.13/site-packages/torchvision/models/_utils.py:208: UserWarning: The parameter 'pretrained' is deprecated since 0.13 and may be removed in the future, please use 'weights' instead.\n",
      "  warnings.warn(\n",
      "/Users/ishananand/miniforge3/envs/pytorch_env/lib/python3.13/site-packages/torchvision/models/_utils.py:223: UserWarning: Arguments other than a weight enum or `None` for 'weights' are deprecated since 0.13 and may be removed in the future. The current behavior is equivalent to passing `weights=VGG16_Weights.IMAGENET1K_V1`. You can also use `weights=VGG16_Weights.DEFAULT` to get the most up-to-date weights.\n",
      "  warnings.warn(msg)\n"
     ]
    },
    {
     "data": {
      "text/plain": [
       "4.176760673522949"
      ]
     },
     "execution_count": 8,
     "metadata": {},
     "output_type": "execute_result"
    }
   ],
   "source": [
    "class PerceptualLoss(nn.Module):\n",
    "    def __init__(self, weight = 0.15):\n",
    "        super().__init__()\n",
    "        self.weight = weight\n",
    "        self.vgg = vgg16(pretrained = True).features[:17].eval()\n",
    "        for param in self.vgg.parameters():\n",
    "            param.requires_grad = False\n",
    "        \n",
    "        self.mse = nn.MSELoss()\n",
    "\n",
    "    def forward(self, pred, target):\n",
    "        batch, timeframe, channels, height, width = pred.shape\n",
    "        pred = rearrange(pred, 'b t c h w -> (b t) c h w')\n",
    "        target = rearrange(target, 'b t c h w -> (b t) c h w')\n",
    "\n",
    "        # pred = rearrange(pred, (batch*timeframe, channels, height, width))\n",
    "        # target = rearrange(target, (batch*timeframe, channels, height, width))\n",
    "\n",
    "        if pred.shape[1] == 1:\n",
    "            pred = pred.repeat(1, 3, 1, 1)\n",
    "            target = target.repeat(1, 3, 1, 1)\n",
    "\n",
    "\n",
    "        vgg_pred = self.vgg(pred)\n",
    "        vgg_true = self.vgg(target)\n",
    "\n",
    "        perceptualoss = F.mse_loss(vgg_pred, vgg_true)\n",
    "        mse_loss = self.mse(pred, target)\n",
    "\n",
    "        return mse_loss + self.weight * perceptualoss\n",
    "    \n",
    "\n",
    "ttrue = torch.randn(1, 10, 1, 64, 64)\n",
    "pred = torch.randn(1, 10, 1, 64, 64)\n",
    "lsFn = PerceptualLoss(weight=0.15)\n",
    "out = lsFn(pred, ttrue)\n",
    "out.item()"
   ]
  },
  {
   "cell_type": "code",
   "execution_count": 9,
   "id": "36e3c3fd",
   "metadata": {},
   "outputs": [],
   "source": [
    "device = torch.device('mps' if torch.cuda.is_available() else 'cpu')\n",
    "torchDataset = MakeVideoDataset(data)\n",
    "dataloader = DataLoader(torchDataset, batch_size=32, shuffle = True)\n",
    "\n",
    "model = VideoGenerator().to(device)\n",
    "optimizer = optim.AdamW(model.parameters(), lr=3e-4)\n",
    "# lossFn = nn.MSELoss()\n",
    "lossFn = PerceptualLoss(weight=0.15).to(device)\n",
    "scheduler = StepLR(optimizer, step_size=10, gamma=0.5)\n",
    "\n",
    "epochs = 1000"
   ]
  },
  {
   "cell_type": "code",
   "execution_count": null,
   "id": "072bed24",
   "metadata": {},
   "outputs": [
    {
     "name": "stderr",
     "output_type": "stream",
     "text": [
      "0/50:   0%|          | 0/313 [00:00<?, ?it/s]/var/folders/y8/q2s37ndx6tg3lpzp3vp8xk_r0000gn/T/ipykernel_1432/2549432269.py:23: UserWarning: To copy construct from a tensor, it is recommended to use sourceTensor.clone().detach() or sourceTensor.clone().detach().requires_grad_(True), rather than torch.tensor(sourceTensor).\n",
      "  torch.tensor(input_frames, dtype=torch.float32),\n",
      "/var/folders/y8/q2s37ndx6tg3lpzp3vp8xk_r0000gn/T/ipykernel_1432/2549432269.py:24: UserWarning: To copy construct from a tensor, it is recommended to use sourceTensor.clone().detach() or sourceTensor.clone().detach().requires_grad_(True), rather than torch.tensor(sourceTensor).\n",
      "  torch.tensor(output_frames, dtype=torch.float32)\n",
      "0/50: 100%|██████████| 313/313 [58:50<00:00, 11.28s/it] \n"
     ]
    },
    {
     "name": "stdout",
     "output_type": "stream",
     "text": [
      " The Loss is 1.1642753041971226\n"
     ]
    },
    {
     "name": "stderr",
     "output_type": "stream",
     "text": [
      "1/50: 100%|██████████| 313/313 [1:00:43<00:00, 11.64s/it]\n"
     ]
    },
    {
     "name": "stdout",
     "output_type": "stream",
     "text": [
      " The Loss is 1.1367016794582525\n"
     ]
    },
    {
     "name": "stderr",
     "output_type": "stream",
     "text": [
      "2/50: 100%|██████████| 313/313 [1:02:23<00:00, 11.96s/it]\n"
     ]
    },
    {
     "name": "stdout",
     "output_type": "stream",
     "text": [
      " The Loss is 1.1130486658206\n"
     ]
    },
    {
     "name": "stderr",
     "output_type": "stream",
     "text": [
      "3/50: 100%|██████████| 313/313 [59:15<00:00, 11.36s/it]\n"
     ]
    },
    {
     "name": "stdout",
     "output_type": "stream",
     "text": [
      " The Loss is 1.0912508039047923\n"
     ]
    },
    {
     "name": "stderr",
     "output_type": "stream",
     "text": [
      "4/50: 100%|██████████| 313/313 [1:00:36<00:00, 11.62s/it]\n"
     ]
    },
    {
     "name": "stdout",
     "output_type": "stream",
     "text": [
      " The Loss is 1.0708724187966734\n"
     ]
    },
    {
     "name": "stderr",
     "output_type": "stream",
     "text": [
      "5/50: 100%|██████████| 313/313 [57:43<00:00, 11.07s/it]\n"
     ]
    },
    {
     "name": "stdout",
     "output_type": "stream",
     "text": [
      " The Loss is 1.0520383334769228\n"
     ]
    },
    {
     "name": "stderr",
     "output_type": "stream",
     "text": [
      "6/50: 100%|██████████| 313/313 [57:21<00:00, 11.00s/it]\n"
     ]
    },
    {
     "name": "stdout",
     "output_type": "stream",
     "text": [
      " The Loss is 1.0341837381402526\n"
     ]
    },
    {
     "name": "stderr",
     "output_type": "stream",
     "text": [
      "7/50: 100%|██████████| 313/313 [57:48<00:00, 11.08s/it]\n"
     ]
    },
    {
     "name": "stdout",
     "output_type": "stream",
     "text": [
      " The Loss is 1.0209418407644326\n"
     ]
    },
    {
     "name": "stderr",
     "output_type": "stream",
     "text": [
      "8/50: 100%|██████████| 313/313 [57:23<00:00, 11.00s/it]\n"
     ]
    },
    {
     "name": "stdout",
     "output_type": "stream",
     "text": [
      " The Loss is 1.0061936077599327\n"
     ]
    },
    {
     "name": "stderr",
     "output_type": "stream",
     "text": [
      "9/50: 100%|██████████| 313/313 [57:52<00:00, 11.09s/it]\n"
     ]
    },
    {
     "name": "stdout",
     "output_type": "stream",
     "text": [
      " The Loss is 0.993214741682473\n"
     ]
    },
    {
     "name": "stderr",
     "output_type": "stream",
     "text": [
      "10/50: 100%|██████████| 313/313 [57:02<00:00, 10.94s/it]\n"
     ]
    },
    {
     "name": "stdout",
     "output_type": "stream",
     "text": [
      " The Loss is 0.9816422451037569\n"
     ]
    },
    {
     "name": "stderr",
     "output_type": "stream",
     "text": [
      "11/50:  66%|██████▌   | 207/313 [1:04:35<21:01, 11.90s/it]   "
     ]
    }
   ],
   "source": [
    "modelLoad = torch.load(\"model/vit_model-2.pt\")\n",
    "model.load_state_dict(modelLoad)\n",
    "\n",
    "for each_epoch in range(epochs):\n",
    "    loop = tqdm(dataloader, desc=f\"Epoch {each_epoch+1}/{epochs}\")\n",
    "    lossVal = 0.0\n",
    "\n",
    "    for batchX, batchY in loop:\n",
    "        batchX = batchX.to(device) / 255.0\n",
    "        batchY = batchY.to(device) / 255.0\n",
    "\n",
    "        pred = model(batchX)\n",
    "    \n",
    "        optimizer.zero_grad()\n",
    "        loss = lossFn(pred, batchY)\n",
    "        loss.backward()\n",
    "        optimizer.step()\n",
    "\n",
    "        lossVal += loss.item()\n",
    "\n",
    "    avg_loss = lossVal / len(dataloader)\n",
    "    print(f\"Epoch {each_epoch+1} : Loss: {avg_loss:.4f}\")\n",
    "\n",
    "    scheduler.step()\n",
    "\n",
    "    if each_epoch % 20 == 0:\n",
    "        torch.save(model.state_dict(), \"model/vit_model-2.pt\")"
   ]
  },
  {
   "cell_type": "code",
   "execution_count": 44,
   "id": "47a00c2c",
   "metadata": {},
   "outputs": [
    {
     "data": {
      "text/plain": [
       "<All keys matched successfully>"
      ]
     },
     "execution_count": 44,
     "metadata": {},
     "output_type": "execute_result"
    }
   ],
   "source": [
    "modelVal = torch.load(\"data/vit_model-2.pt\", map_location=torch.device('mps'))\n",
    "model.load_state_dict(modelVal)\n"
   ]
  },
  {
   "cell_type": "code",
   "execution_count": 45,
   "id": "6bb171b2",
   "metadata": {},
   "outputs": [
    {
     "data": {
      "text/plain": [
       "(10000, 20, 64, 64)"
      ]
     },
     "execution_count": 45,
     "metadata": {},
     "output_type": "execute_result"
    }
   ],
   "source": [
    "data = np.load(\"data/MovingMNIST/mnist_test_seq.npy\")\n",
    "# data.shape\n",
    "data = np.transpose(data, (1, 0, 2, 3))\n",
    "# data = data.unsqueeze(2)\n",
    "data.shape"
   ]
  },
  {
   "cell_type": "code",
   "execution_count": 46,
   "id": "36dd0ed6",
   "metadata": {},
   "outputs": [
    {
     "data": {
      "image/gif": "[encoded data removed]",
      "text/plain": [
       "<IPython.core.display.Image object>"
      ]
     },
     "metadata": {},
     "output_type": "display_data"
    }
   ],
   "source": [
    "def visualizeData(sequence):\n",
    "\n",
    "    frames = [Image.fromarray((frame * 255).astype(np.uint8), mode='L') for frame in sequence]\n",
    "\n",
    "    buffer = BytesIO()\n",
    "    frames[0].save(\n",
    "        buffer,\n",
    "        format='GIF',\n",
    "        save_all=True,\n",
    "        append_images=frames[1:],\n",
    "        duration=100,\n",
    "        loop=0\n",
    "    )\n",
    "\n",
    "    buffer.seek(0)\n",
    "    display(IPyImage(data=buffer.getvalue()))\n",
    "\n",
    "visualizeData(data[11])"
   ]
  },
  {
   "cell_type": "code",
   "execution_count": 56,
   "id": "1a827773",
   "metadata": {},
   "outputs": [
    {
     "data": {
      "image/gif": "[encoded data removed]",
      "text/plain": [
       "<IPython.core.display.Image object>"
      ]
     },
     "metadata": {},
     "output_type": "display_data"
    }
   ],
   "source": [
    "def generateVideos(model, initialFrame):\n",
    "\n",
    "    all_outputs = []\n",
    "\n",
    "    test = initialFrame.float().unsqueeze(0).unsqueeze(0).unsqueeze(2)  \n",
    "\n",
    "    for _ in range(2):\n",
    "        out = model(test)\n",
    "        # print(out.shape)\n",
    "        temp = out #* 255.0\n",
    "        all_outputs.append(temp)\n",
    "        last_frame = out[:, -1, :, :]\n",
    "        test = last_frame.unsqueeze(1)\n",
    "        # print(test.shape)\n",
    "\n",
    "    full_output = torch.cat(all_outputs, dim=1)\n",
    "    full_output = full_output.squeeze(2)\n",
    "    # print(full_output.shape)\n",
    "    numpy_data = full_output.detach().cpu().numpy()\n",
    "    visualizeData(numpy_data[0])\n",
    "\n",
    "# noise = torch.randn(64, 64)\n",
    "initial_frame = torch.from_numpy(data[0, 10]/255.0)\n",
    "generateVideos(model, initial_frame)\n"
   ]
  },
  {
   "cell_type": "markdown",
   "id": "824248a2",
   "metadata": {},
   "source": [
    "\n",
    "Denormalized predictions look worse than normalized ones because denormalization magnifies early-stage noise.   \n",
    "Wait longer. Visualize normalized outputs during training, and only rely on denormalized visuals     \n",
    "for evaluation after substantial training.\n"
   ]
  }
 ],
 "metadata": {
  "kernelspec": {
   "display_name": "pytorch_env",
   "language": "python",
   "name": "python3"
  },
  "language_info": {
   "codemirror_mode": {
    "name": "ipython",
    "version": 3
   },
   "file_extension": ".py",
   "mimetype": "text/x-python",
   "name": "python",
   "nbconvert_exporter": "python",
   "pygments_lexer": "ipython3",
   "version": "3.13.3"
  }
 },
 "nbformat": 4,
 "nbformat_minor": 5
}
